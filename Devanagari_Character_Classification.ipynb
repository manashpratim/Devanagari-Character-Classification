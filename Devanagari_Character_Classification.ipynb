{
  "nbformat": 4,
  "nbformat_minor": 0,
  "metadata": {
    "colab": {
      "name": "Devanagari Character Classification.ipynb",
      "version": "0.3.2",
      "provenance": [],
      "collapsed_sections": [],
      "include_colab_link": true
    },
    "kernelspec": {
      "name": "python3",
      "display_name": "Python 3"
    },
    "accelerator": "GPU"
  },
  "cells": [
    {
      "cell_type": "markdown",
      "metadata": {
        "id": "view-in-github",
        "colab_type": "text"
      },
      "source": [
        "<a href=\"https://colab.research.google.com/github/manashpratim/Devanagari-Character-Classification/blob/master/Devanagari_Character_Classification.ipynb\" target=\"_parent\"><img src=\"https://colab.research.google.com/assets/colab-badge.svg\" alt=\"Open In Colab\"/></a>"
      ]
    },
    {
      "cell_type": "code",
      "metadata": {
        "id": "hqf62ZWuGS8W",
        "colab_type": "code",
        "colab": {
          "base_uri": "https://localhost:8080/",
          "height": 224
        },
        "outputId": "71bf67cd-f9b2-4121-9b9c-a0305a17aeef"
      },
      "source": [
        "!wget --no-check-certificate \\\n",
        "      \"https://storage.googleapis.com/kaggle-datasets/1168/3719/data.csv.zip?GoogleAccessId=web-data@kaggle-161607.iam.gserviceaccount.com&Expires=1561109064&Signature=dnC%2BBTo%2FA0wPPTZ1PdWSTgHpQGSLcpCUYx3W4AB680FB%2BgQD6J1ZYPPjPs%2BBhdPGTEBeCMgyEYvV5zkAFiDT9y1pqS8WXGEppD%2BhpMvCf2WAxJLLk6S8YTHtYMxIFU4WlUw5qmGP0GyN8cRRQ8bHzFfKiok3vbc2wrnuEmRKRynMfIZweK3b0oA%2FWFdSrhVK9LPVm2uJr25ghyEv7RjL6QwLV1R8u6Kq3wlgCBb3tmrZ541rtfB85cgjMBIrWFNqAkea6XsqdgaxUXOwqzN6iE8PLXjWOSS58nA0QfHRFMZo7aLiC4KJZjw2QDa1UvgDUazIk%2FXRa4fExYMMDqYLEg%3D%3D\" \\\n",
        "      -O \"/tmp/devanagari.zip\""
      ],
      "execution_count": 1,
      "outputs": [
        {
          "output_type": "stream",
          "text": [
            "--2019-06-18 10:23:43--  https://storage.googleapis.com/kaggle-datasets/1168/3719/data.csv.zip?GoogleAccessId=web-data@kaggle-161607.iam.gserviceaccount.com&Expires=1561109064&Signature=dnC%2BBTo%2FA0wPPTZ1PdWSTgHpQGSLcpCUYx3W4AB680FB%2BgQD6J1ZYPPjPs%2BBhdPGTEBeCMgyEYvV5zkAFiDT9y1pqS8WXGEppD%2BhpMvCf2WAxJLLk6S8YTHtYMxIFU4WlUw5qmGP0GyN8cRRQ8bHzFfKiok3vbc2wrnuEmRKRynMfIZweK3b0oA%2FWFdSrhVK9LPVm2uJr25ghyEv7RjL6QwLV1R8u6Kq3wlgCBb3tmrZ541rtfB85cgjMBIrWFNqAkea6XsqdgaxUXOwqzN6iE8PLXjWOSS58nA0QfHRFMZo7aLiC4KJZjw2QDa1UvgDUazIk%2FXRa4fExYMMDqYLEg%3D%3D\n",
            "Resolving storage.googleapis.com (storage.googleapis.com)... 108.177.97.128, 2404:6800:4008:c05::80\n",
            "Connecting to storage.googleapis.com (storage.googleapis.com)|108.177.97.128|:443... connected.\n",
            "HTTP request sent, awaiting response... 200 OK\n",
            "Length: 49541075 (47M) [application/octet-stream]\n",
            "Saving to: ‘/tmp/devanagari.zip’\n",
            "\n",
            "/tmp/devanagari.zip 100%[===================>]  47.25M  27.8MB/s    in 1.7s    \n",
            "\n",
            "2019-06-18 10:23:45 (27.8 MB/s) - ‘/tmp/devanagari.zip’ saved [49541075/49541075]\n",
            "\n"
          ],
          "name": "stdout"
        }
      ]
    },
    {
      "cell_type": "code",
      "metadata": {
        "id": "aFlPAIFJGfwX",
        "colab_type": "code",
        "colab": {}
      },
      "source": [
        "import os\n",
        "import zipfile\n",
        "\n",
        "local_zip='/tmp/devanagari.zip'\n",
        "zip_ref=zipfile.ZipFile(local_zip,'r')\n",
        "zip_ref.extractall('/tmp/devanagari')\n",
        "zip_ref.close()"
      ],
      "execution_count": 0,
      "outputs": []
    },
    {
      "cell_type": "code",
      "metadata": {
        "id": "pwBu1rNDHZtI",
        "colab_type": "code",
        "colab": {}
      },
      "source": [
        "#The devanagari file contains a .csv file containing the pixels and labels of the images. Each row consists of 1024 pixels and the label of the character\n",
        "import csv\n",
        "fields = [] \n",
        "rows = [] \n",
        "import numpy as np\n",
        "\n",
        "with open('/tmp/devanagari/data.csv') as training_file:\n",
        "    # creating a csv reader object \n",
        "    csvreader = csv.reader(training_file) \n",
        "      \n",
        "    # extracting field names through first row \n",
        "    fields = next(csvreader) \n",
        "    # extracting each data row one by one \n",
        "    for row in csvreader: \n",
        "        rows.append(row)"
      ],
      "execution_count": 0,
      "outputs": []
    },
    {
      "cell_type": "code",
      "metadata": {
        "id": "txt-pY3wMse0",
        "colab_type": "code",
        "colab": {}
      },
      "source": [
        "#Randomizing the data and splitting it into training and test sets\n",
        "import random\n",
        "suffled_set=random.sample(rows,len(rows))\n",
        "train_len=int(len(suffled_set)*0.9)\n",
        "train_set=suffled_set[:train_len]\n",
        "test_set=suffled_set[train_len:]"
      ],
      "execution_count": 0,
      "outputs": []
    },
    {
      "cell_type": "code",
      "metadata": {
        "id": "FG7LWESSH4o8",
        "colab_type": "code",
        "colab": {}
      },
      "source": [
        "#Function to separate the Images and Labels from the data.\n",
        "#Returns images as 32X32 numpy array and labels as numeric data\n",
        "def img_label(array):\n",
        "  labels=[]\n",
        "  images=[]\n",
        "\n",
        "  #Separating the images and labels\n",
        "  for i in range(len(array)):\n",
        "    labels.append(array[i][-1])\n",
        "    images.append(array[i][:-1])\n",
        "   \n",
        "  #Converting the pixels of the images from string to float\n",
        "  for i in range(len(images)):\n",
        "    images[i] = list(map(float, images[i]))\n",
        "  \n",
        "  # Tranforming the categorical labels to numeric\n",
        "  from sklearn.preprocessing import LabelEncoder\n",
        "  le = LabelEncoder()\n",
        "  le.fit(labels)\n",
        "  labels=le.transform(labels)\n",
        "  \n",
        "  # Converting the images and labels to numpy array\n",
        "  images=np.array(images)\n",
        "  labels=np.array(labels)\n",
        "  \n",
        "  img=np.zeros((len(images),32,32))\n",
        "  \n",
        "  #Reshaping the Images from 1024 pixels to 32x32\n",
        "  for i in range(len(images)):\n",
        "      img[i]=images[i].reshape((32,32))\n",
        "   \n",
        "  #Extending the dimension of the Images\n",
        "  img=np.expand_dims(img,axis=3)\n",
        "  \n",
        "  return img,labels"
      ],
      "execution_count": 0,
      "outputs": []
    },
    {
      "cell_type": "code",
      "metadata": {
        "id": "-2WFxeyANhhs",
        "colab_type": "code",
        "colab": {}
      },
      "source": [
        "#Separation the Images and Labels from the data\n",
        "train_images,train_labels=img_label(train_set)\n",
        "test_images,test_labels=img_label(test_set)"
      ],
      "execution_count": 0,
      "outputs": []
    },
    {
      "cell_type": "code",
      "metadata": {
        "id": "c-4pVJXdJdsO",
        "colab_type": "code",
        "colab": {
          "base_uri": "https://localhost:8080/",
          "height": 153
        },
        "outputId": "64741c58-214b-4594-fec1-94e94eb331b9"
      },
      "source": [
        "#Data Summary\n",
        "print('No. of training images: ',len(train_images))\n",
        "print('No. of test images: ',len(test_images))\n",
        "print('No. of classes in training data: ', len(np.unique(train_labels)))\n",
        "print('No. of classes in test data: ', len(np.unique(test_labels)))\n",
        "print('Dimension of training images: ',train_images.shape)\n",
        "print('Dimension of test images: ',test_images.shape)\n",
        "print('Dimension of training labels: ',train_labels.shape)\n",
        "print('Dimension of test labels: ',test_labels.shape)"
      ],
      "execution_count": 60,
      "outputs": [
        {
          "output_type": "stream",
          "text": [
            "No. of training images:  82800\n",
            "No. of test images:  9200\n",
            "No. of classes in training data:  46\n",
            "No. of classes in test data:  46\n",
            "Dimension of training images:  (82800, 32, 32, 1)\n",
            "Dimension of test images:  (9200, 32, 32, 1)\n",
            "Dimension of training labels:  (82800,)\n",
            "Dimension of test labels:  (9200,)\n"
          ],
          "name": "stdout"
        }
      ]
    },
    {
      "cell_type": "code",
      "metadata": {
        "id": "-YvxAXhJcWto",
        "colab_type": "code",
        "colab": {
          "base_uri": "https://localhost:8080/",
          "height": 465
        },
        "outputId": "337f52f9-de75-43b5-c718-d39979475331"
      },
      "source": [
        "#Displaying the images of characters\n",
        "%matplotlib inline\n",
        "\n",
        "import matplotlib.pyplot as plt\n",
        "import matplotlib.image as mpimg\n",
        "\n",
        "#We'll output images in a 4X4 configuration.  \n",
        "\n",
        "nrows=4\n",
        "ncols=4\n",
        "\n",
        "\n",
        "\n",
        "fig=plt.gcf()\n",
        "fig.set_size_inches(ncols*4,nrows*4)\n",
        "\n",
        "\n",
        "for i in range(len(train_images[:8])):\n",
        "  sp=plt.subplot(nrows,ncols,i+1)\n",
        "  sp.axis('Off')\n",
        "  X = np.squeeze(train_images[i], axis=(2,)) # sample 2D array\n",
        "  plt.imshow(X, cmap=\"gray\")\n",
        "plt.show()"
      ],
      "execution_count": 101,
      "outputs": [
        {
          "output_type": "display_data",
          "data": {
            "image/png": "[encoded data removed]",
            "text/plain": [
              "<Figure size 1152x1152 with 8 Axes>"
            ]
          },
          "metadata": {
            "tags": []
          }
        }
      ]
    },
    {
      "cell_type": "code",
      "metadata": {
        "id": "TZPvPq0JK9zx",
        "colab_type": "code",
        "colab": {}
      },
      "source": [
        "import tensorflow as tf\n",
        "from tensorflow import keras"
      ],
      "execution_count": 0,
      "outputs": []
    },
    {
      "cell_type": "code",
      "metadata": {
        "id": "B978prxIMJ3U",
        "colab_type": "code",
        "colab": {}
      },
      "source": [
        "#Image Generator\n",
        "from tensorflow.keras.preprocessing.image import ImageDataGenerator\n",
        "\n",
        "# Add data-augmentation parameters to ImageDataGenerator\n",
        "\"\"\"train_datagen = ImageDataGenerator(rescale = 1./255,\n",
        "\t    rotation_range=40,\n",
        "      width_shift_range=0.2,\n",
        "      height_shift_range=0.2,\n",
        "      shear_range=0.2,\n",
        "      zoom_range=0.2,\n",
        "      horizontal_flip=True,\n",
        "      fill_mode='nearest')\"\"\"\n",
        "train_datagen = ImageDataGenerator(rescale = 1./255)                                \n",
        "test_datagen=ImageDataGenerator(rescale=1./255)\n"
      ],
      "execution_count": 0,
      "outputs": []
    },
    {
      "cell_type": "code",
      "metadata": {
        "id": "XD727YzJLfX8",
        "colab_type": "code",
        "colab": {}
      },
      "source": [
        "model=tf.keras.models.Sequential([\n",
        "    tf.keras.layers.Conv2D(64,(3,3),activation='relu',input_shape=(32,32,1)),\n",
        "    tf.keras.layers.MaxPooling2D(2,2),\n",
        "    tf.keras.layers.Conv2D(128,(3,3),activation='relu',input_shape=(32,32,1)),\n",
        "    tf.keras.layers.MaxPooling2D(2,2),\n",
        "    tf.keras.layers.Flatten(),\n",
        "    tf.keras.layers.Dense(512,activation='relu'),\n",
        "    tf.keras.layers.Dense(46,activation='softmax')\n",
        "])"
      ],
      "execution_count": 0,
      "outputs": []
    },
    {
      "cell_type": "code",
      "metadata": {
        "id": "v9X_kqVrVamO",
        "colab_type": "code",
        "colab": {
          "base_uri": "https://localhost:8080/",
          "height": 357
        },
        "outputId": "3a84465b-68c1-4a65-bc1f-e5c5296fa3d9"
      },
      "source": [
        "model.compile(optimizer='rmsprop',loss='sparse_categorical_crossentropy',metrics=['accuracy'])\n",
        "history=model.fit_generator(\n",
        "  train_datagen.flow(train_images,train_labels,batch_size=1000),\n",
        "  steps_per_epoch=len(train_images)/1000,\n",
        "  epochs=10,\n",
        "  validation_data=test_datagen.flow(test_images,test_labels,batch_size=100),\n",
        "  validation_steps=len(test_images)/100,\n",
        "  verbose=1\n",
        ")"
      ],
      "execution_count": 73,
      "outputs": [
        {
          "output_type": "stream",
          "text": [
            "Epoch 1/10\n",
            "83/82 [==============================] - 10s 118ms/step - loss: 0.0137 - acc: 0.9966 - val_loss: 0.0880 - val_acc: 0.9799\n",
            "Epoch 2/10\n",
            "83/82 [==============================] - 9s 103ms/step - loss: 0.0081 - acc: 0.9977 - val_loss: 0.0860 - val_acc: 0.9778\n",
            "Epoch 3/10\n",
            "83/82 [==============================] - 9s 104ms/step - loss: 0.0066 - acc: 0.9984 - val_loss: 0.1114 - val_acc: 0.9743\n",
            "Epoch 4/10\n",
            "83/82 [==============================] - 9s 103ms/step - loss: 0.0065 - acc: 0.9984 - val_loss: 0.0811 - val_acc: 0.9808\n",
            "Epoch 5/10\n",
            "83/82 [==============================] - 9s 104ms/step - loss: 0.0034 - acc: 0.9990 - val_loss: 0.0888 - val_acc: 0.9796\n",
            "Epoch 6/10\n",
            "83/82 [==============================] - 9s 104ms/step - loss: 0.0035 - acc: 0.9991 - val_loss: 0.0874 - val_acc: 0.9816\n",
            "Epoch 7/10\n",
            "83/82 [==============================] - 9s 105ms/step - loss: 0.0034 - acc: 0.9990 - val_loss: 0.0987 - val_acc: 0.9810\n",
            "Epoch 8/10\n",
            "83/82 [==============================] - 9s 105ms/step - loss: 0.0024 - acc: 0.9993 - val_loss: 0.1924 - val_acc: 0.9630\n",
            "Epoch 9/10\n",
            "83/82 [==============================] - 9s 106ms/step - loss: 0.0026 - acc: 0.9993 - val_loss: 0.1021 - val_acc: 0.9809\n",
            "Epoch 10/10\n",
            "83/82 [==============================] - 9s 105ms/step - loss: 0.0017 - acc: 0.9995 - val_loss: 0.1045 - val_acc: 0.9817\n"
          ],
          "name": "stdout"
        }
      ]
    },
    {
      "cell_type": "code",
      "metadata": {
        "id": "_c9-E_y_Whrc",
        "colab_type": "code",
        "colab": {
          "base_uri": "https://localhost:8080/",
          "height": 521
        },
        "outputId": "38f9486c-be82-4564-d356-1e1f3969583c"
      },
      "source": [
        "#Evaluating Accuracy and Loss of the model\n",
        "%matplotlib inline\n",
        "acc=history.history['acc']\n",
        "val_acc=history.history['val_acc']\n",
        "loss=history.history['loss']\n",
        "val_loss=history.history['val_loss']\n",
        "\n",
        "epochs=range(len(acc)) #No. of epochs\n",
        "\n",
        "#Plot training and validation accuracy per epoch\n",
        "import matplotlib.pyplot as plt\n",
        "plt.plot(epochs,acc,'r',label='Training Accuracy')\n",
        "plt.plot(epochs,val_acc,'g',label='Testing Accuracy')\n",
        "plt.legend()\n",
        "plt.figure()\n",
        "\n",
        "#Plot training and validation loss per epoch\n",
        "plt.plot(epochs,loss,'r',label='Training Loss')\n",
        "plt.plot(epochs,val_loss,'g',label='Testing Loss')\n",
        "plt.legend()\n",
        "plt.show()"
      ],
      "execution_count": 74,
      "outputs": [
        {
          "output_type": "display_data",
          "data": {
            "image/png": "[encoded data removed]",
            "text/plain": [
              "<Figure size 432x288 with 1 Axes>"
            ]
          },
          "metadata": {
            "tags": []
          }
        },
        {
          "output_type": "display_data",
          "data": {
            "image/png": "[encoded data removed]",
            "text/plain": [
              "<Figure size 432x288 with 1 Axes>"
            ]
          },
          "metadata": {
            "tags": []
          }
        }
      ]
    }
  ]
}